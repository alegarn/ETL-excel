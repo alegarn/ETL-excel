{
 "cells": [
  {
   "cell_type": "markdown",
   "id": "17ce6498",
   "metadata": {},
   "source": [
    "# Complete ETL - CSV - Excel - Visualisation\n",
    "\n",
    "Goal:\n",
    "- .csv to .xlsx to .csv\n",
    "- data analysis (very short: income per country per year)\n",
    "- visualization\n",
    "- Python automate: run the file, get the graphs"
   ]
  },
  {
   "cell_type": "code",
   "execution_count": 202,
   "id": "87165cc1",
   "metadata": {},
   "outputs": [],
   "source": [
    "# https://towardsdatascience.com/a-simple-guide-to-automate-your-excel-reporting-with-python-9d35f143ef7\n",
    "#import re\n",
    "import pandas as pd\n",
    "import os\n",
    "import glob\n",
    "import csv\n",
    "from xlsxwriter.workbook import Workbook\n",
    "import xlsxwriter\n",
    "\n",
    "import openpyxl\n",
    "from openpyxl import load_workbook\n",
    "from openpyxl.styles import Font\n",
    "# https://openpyxl.readthedocs.io/en/stable/charts/bar.html#vertical-horizontal-and-stacked-bar-charts\n",
    "from openpyxl import Workbook\n",
    "from openpyxl.chart import BarChart, Series, Reference\n",
    "import string"
   ]
  },
  {
   "cell_type": "code",
   "execution_count": 196,
   "id": "0e825743",
   "metadata": {},
   "outputs": [
    {
     "ename": "KeyError",
     "evalue": "\"None of [Index(['continent', 'country', 'year', 'demox_eiu', 'income_per_person',\\n       'invest_%_gdp', 'tax_%_gdp', 'gini_index'],\\n      dtype='object')] are in the [columns]\"",
     "output_type": "error",
     "traceback": [
      "\u001b[0;31m---------------------------------------------------------------------------\u001b[0m",
      "\u001b[0;31mKeyError\u001b[0m                                  Traceback (most recent call last)",
      "\u001b[0;32m/tmp/ipykernel_3902/2302598671.py\u001b[0m in \u001b[0;36m<module>\u001b[0;34m\u001b[0m\n\u001b[1;32m      1\u001b[0m \u001b[0;31m# démarrer d'un excel?\u001b[0m\u001b[0;34m\u001b[0m\u001b[0;34m\u001b[0m\u001b[0m\n\u001b[1;32m      2\u001b[0m \u001b[0mexcel_file\u001b[0m \u001b[0;34m=\u001b[0m \u001b[0mpd\u001b[0m\u001b[0;34m.\u001b[0m\u001b[0mread_excel\u001b[0m\u001b[0;34m(\u001b[0m\u001b[0;34m'data/combined_final_last_10_years.xlsx'\u001b[0m\u001b[0;34m,\u001b[0m \u001b[0;34m\"combined\"\u001b[0m\u001b[0;34m,\u001b[0m \u001b[0mindex_col\u001b[0m\u001b[0;34m=\u001b[0m\u001b[0;34m\"Unnamed: 0\"\u001b[0m\u001b[0;34m)\u001b[0m\u001b[0;34m\u001b[0m\u001b[0;34m\u001b[0m\u001b[0m\n\u001b[0;32m----> 3\u001b[0;31m \u001b[0mexcel_file\u001b[0m\u001b[0;34m[\u001b[0m\u001b[0;34m[\u001b[0m\u001b[0;34m'continent'\u001b[0m\u001b[0;34m,\u001b[0m\u001b[0;34m'country'\u001b[0m\u001b[0;34m,\u001b[0m\u001b[0;34m'year'\u001b[0m\u001b[0;34m,\u001b[0m\u001b[0;34m'demox_eiu'\u001b[0m\u001b[0;34m,\u001b[0m\u001b[0;34m'income_per_person'\u001b[0m\u001b[0;34m,\u001b[0m\u001b[0;34m'invest_%_gdp'\u001b[0m\u001b[0;34m,\u001b[0m\u001b[0;34m'tax_%_gdp'\u001b[0m\u001b[0;34m,\u001b[0m\u001b[0;34m'gini_index'\u001b[0m\u001b[0;34m]\u001b[0m\u001b[0;34m]\u001b[0m\u001b[0;34m\u001b[0m\u001b[0;34m\u001b[0m\u001b[0m\n\u001b[0m\u001b[1;32m      4\u001b[0m \u001b[0mprint\u001b[0m\u001b[0;34m(\u001b[0m\u001b[0mexcel_file\u001b[0m\u001b[0;34m)\u001b[0m\u001b[0;34m\u001b[0m\u001b[0;34m\u001b[0m\u001b[0m\n",
      "\u001b[0;32m~/anaconda3/lib/python3.9/site-packages/pandas/core/frame.py\u001b[0m in \u001b[0;36m__getitem__\u001b[0;34m(self, key)\u001b[0m\n\u001b[1;32m   3462\u001b[0m             \u001b[0;32mif\u001b[0m \u001b[0mis_iterator\u001b[0m\u001b[0;34m(\u001b[0m\u001b[0mkey\u001b[0m\u001b[0;34m)\u001b[0m\u001b[0;34m:\u001b[0m\u001b[0;34m\u001b[0m\u001b[0;34m\u001b[0m\u001b[0m\n\u001b[1;32m   3463\u001b[0m                 \u001b[0mkey\u001b[0m \u001b[0;34m=\u001b[0m \u001b[0mlist\u001b[0m\u001b[0;34m(\u001b[0m\u001b[0mkey\u001b[0m\u001b[0;34m)\u001b[0m\u001b[0;34m\u001b[0m\u001b[0;34m\u001b[0m\u001b[0m\n\u001b[0;32m-> 3464\u001b[0;31m             \u001b[0mindexer\u001b[0m \u001b[0;34m=\u001b[0m \u001b[0mself\u001b[0m\u001b[0;34m.\u001b[0m\u001b[0mloc\u001b[0m\u001b[0;34m.\u001b[0m\u001b[0m_get_listlike_indexer\u001b[0m\u001b[0;34m(\u001b[0m\u001b[0mkey\u001b[0m\u001b[0;34m,\u001b[0m \u001b[0maxis\u001b[0m\u001b[0;34m=\u001b[0m\u001b[0;36m1\u001b[0m\u001b[0;34m)\u001b[0m\u001b[0;34m[\u001b[0m\u001b[0;36m1\u001b[0m\u001b[0;34m]\u001b[0m\u001b[0;34m\u001b[0m\u001b[0;34m\u001b[0m\u001b[0m\n\u001b[0m\u001b[1;32m   3465\u001b[0m \u001b[0;34m\u001b[0m\u001b[0m\n\u001b[1;32m   3466\u001b[0m         \u001b[0;31m# take() does not accept boolean indexers\u001b[0m\u001b[0;34m\u001b[0m\u001b[0;34m\u001b[0m\u001b[0m\n",
      "\u001b[0;32m~/anaconda3/lib/python3.9/site-packages/pandas/core/indexing.py\u001b[0m in \u001b[0;36m_get_listlike_indexer\u001b[0;34m(self, key, axis)\u001b[0m\n\u001b[1;32m   1312\u001b[0m             \u001b[0mkeyarr\u001b[0m\u001b[0;34m,\u001b[0m \u001b[0mindexer\u001b[0m\u001b[0;34m,\u001b[0m \u001b[0mnew_indexer\u001b[0m \u001b[0;34m=\u001b[0m \u001b[0max\u001b[0m\u001b[0;34m.\u001b[0m\u001b[0m_reindex_non_unique\u001b[0m\u001b[0;34m(\u001b[0m\u001b[0mkeyarr\u001b[0m\u001b[0;34m)\u001b[0m\u001b[0;34m\u001b[0m\u001b[0;34m\u001b[0m\u001b[0m\n\u001b[1;32m   1313\u001b[0m \u001b[0;34m\u001b[0m\u001b[0m\n\u001b[0;32m-> 1314\u001b[0;31m         \u001b[0mself\u001b[0m\u001b[0;34m.\u001b[0m\u001b[0m_validate_read_indexer\u001b[0m\u001b[0;34m(\u001b[0m\u001b[0mkeyarr\u001b[0m\u001b[0;34m,\u001b[0m \u001b[0mindexer\u001b[0m\u001b[0;34m,\u001b[0m \u001b[0maxis\u001b[0m\u001b[0;34m)\u001b[0m\u001b[0;34m\u001b[0m\u001b[0;34m\u001b[0m\u001b[0m\n\u001b[0m\u001b[1;32m   1315\u001b[0m \u001b[0;34m\u001b[0m\u001b[0m\n\u001b[1;32m   1316\u001b[0m         if needs_i8_conversion(ax.dtype) or isinstance(\n",
      "\u001b[0;32m~/anaconda3/lib/python3.9/site-packages/pandas/core/indexing.py\u001b[0m in \u001b[0;36m_validate_read_indexer\u001b[0;34m(self, key, indexer, axis)\u001b[0m\n\u001b[1;32m   1372\u001b[0m                 \u001b[0;32mif\u001b[0m \u001b[0muse_interval_msg\u001b[0m\u001b[0;34m:\u001b[0m\u001b[0;34m\u001b[0m\u001b[0;34m\u001b[0m\u001b[0m\n\u001b[1;32m   1373\u001b[0m                     \u001b[0mkey\u001b[0m \u001b[0;34m=\u001b[0m \u001b[0mlist\u001b[0m\u001b[0;34m(\u001b[0m\u001b[0mkey\u001b[0m\u001b[0;34m)\u001b[0m\u001b[0;34m\u001b[0m\u001b[0;34m\u001b[0m\u001b[0m\n\u001b[0;32m-> 1374\u001b[0;31m                 \u001b[0;32mraise\u001b[0m \u001b[0mKeyError\u001b[0m\u001b[0;34m(\u001b[0m\u001b[0;34mf\"None of [{key}] are in the [{axis_name}]\"\u001b[0m\u001b[0;34m)\u001b[0m\u001b[0;34m\u001b[0m\u001b[0;34m\u001b[0m\u001b[0m\n\u001b[0m\u001b[1;32m   1375\u001b[0m \u001b[0;34m\u001b[0m\u001b[0m\n\u001b[1;32m   1376\u001b[0m             \u001b[0mnot_found\u001b[0m \u001b[0;34m=\u001b[0m \u001b[0mlist\u001b[0m\u001b[0;34m(\u001b[0m\u001b[0mensure_index\u001b[0m\u001b[0;34m(\u001b[0m\u001b[0mkey\u001b[0m\u001b[0;34m)\u001b[0m\u001b[0;34m[\u001b[0m\u001b[0mmissing_mask\u001b[0m\u001b[0;34m.\u001b[0m\u001b[0mnonzero\u001b[0m\u001b[0;34m(\u001b[0m\u001b[0;34m)\u001b[0m\u001b[0;34m[\u001b[0m\u001b[0;36m0\u001b[0m\u001b[0;34m]\u001b[0m\u001b[0;34m]\u001b[0m\u001b[0;34m.\u001b[0m\u001b[0munique\u001b[0m\u001b[0;34m(\u001b[0m\u001b[0;34m)\u001b[0m\u001b[0;34m)\u001b[0m\u001b[0;34m\u001b[0m\u001b[0;34m\u001b[0m\u001b[0m\n",
      "\u001b[0;31mKeyError\u001b[0m: \"None of [Index(['continent', 'country', 'year', 'demox_eiu', 'income_per_person',\\n       'invest_%_gdp', 'tax_%_gdp', 'gini_index'],\\n      dtype='object')] are in the [columns]\""
     ]
    }
   ],
   "source": [
    "# démarrer d'un excel?\n",
    "excel_file = pd.read_excel('data/combined_final_last_10_years.xlsx', \"combined\", index_col=\"Unnamed: 0\")\n",
    "excel_file[['continent','country','year','demox_eiu','income_per_person','invest_%_gdp','tax_%_gdp','gini_index']]\n",
    "print(excel_file)"
   ]
  },
  {
   "cell_type": "code",
   "execution_count": 210,
   "id": "c554d942",
   "metadata": {
    "scrolled": true
   },
   "outputs": [
    {
     "name": "stdout",
     "output_type": "stream",
     "text": [
      "     continent           country  year  demox_eiu  income_per_person  \\\n",
      "0       Africa  Congo, Dem. Rep.  2006       27.6                605   \n",
      "1       Africa  Congo, Dem. Rep.  2007       25.2                623   \n",
      "2       Africa  Congo, Dem. Rep.  2008       22.8                640   \n",
      "3       Africa  Congo, Dem. Rep.  2009       22.1                637   \n",
      "4       Africa  Congo, Dem. Rep.  2010       21.5                660   \n",
      "...        ...               ...   ...        ...                ...   \n",
      "1229   Oceania       New Zealand  2012       92.6              33300   \n",
      "1230   Oceania       New Zealand  2013       92.6              33900   \n",
      "1231   Oceania       New Zealand  2014       92.6              34600   \n",
      "1232   Oceania       New Zealand  2015       92.6              35200   \n",
      "1233   Oceania       New Zealand  2016       92.6              35700   \n",
      "\n",
      "      invest_%_gdp  tax_%_gdp  gini_index  \n",
      "0             14.6       6.83        42.2  \n",
      "1             13.7       6.99        42.1  \n",
      "2             10.9       8.97        42.1  \n",
      "3             14.6       7.89        42.1  \n",
      "4             28.8       8.35        42.1  \n",
      "...            ...        ...         ...  \n",
      "1229          20.9      26.80        33.5  \n",
      "1230          22.0      26.60        34.0  \n",
      "1231          22.9      26.80        34.0  \n",
      "1232          23.4      27.40        34.5  \n",
      "1233          24.4      27.20        34.8  \n",
      "\n",
      "[1234 rows x 8 columns]\n"
     ]
    },
    {
     "name": "stderr",
     "output_type": "stream",
     "text": [
      "Exception ignored in: <generator object WorksheetWriter.get_stream at 0x7fd6b89fcb30>\n",
      "Traceback (most recent call last):\n",
      "  File \"/home/alegarn/anaconda3/lib/python3.9/site-packages/openpyxl/worksheet/_writer.py\", line 300, in get_stream\n",
      "  File \"src/lxml/serializer.pxi\", line 1829, in lxml.etree._FileWriterElement.__exit__\n",
      "  File \"src/lxml/serializer.pxi\", line 1565, in lxml.etree._IncrementalFileWriter._write_end_element\n",
      "lxml.etree.LxmlSyntaxError: inconsistent exit action in context manager\n",
      "Exception ignored in: <generator object WriteOnlyWorksheet._write_rows at 0x7fd6b89fcdd0>\n",
      "Traceback (most recent call last):\n",
      "  File \"/home/alegarn/anaconda3/lib/python3.9/site-packages/openpyxl/worksheet/_write_only.py\", line 75, in _write_rows\n",
      "  File \"src/lxml/serializer.pxi\", line 1829, in lxml.etree._FileWriterElement.__exit__\n",
      "  File \"src/lxml/serializer.pxi\", line 1563, in lxml.etree._IncrementalFileWriter._write_end_element\n",
      "lxml.etree.LxmlSyntaxError: not in an element\n"
     ]
    },
    {
     "data": {
      "text/html": [
       "<div>\n",
       "<style scoped>\n",
       "    .dataframe tbody tr th:only-of-type {\n",
       "        vertical-align: middle;\n",
       "    }\n",
       "\n",
       "    .dataframe tbody tr th {\n",
       "        vertical-align: top;\n",
       "    }\n",
       "\n",
       "    .dataframe thead th {\n",
       "        text-align: right;\n",
       "    }\n",
       "</style>\n",
       "<table border=\"1\" class=\"dataframe\">\n",
       "  <thead>\n",
       "    <tr style=\"text-align: right;\">\n",
       "      <th></th>\n",
       "      <th>continent</th>\n",
       "      <th>country</th>\n",
       "      <th>year</th>\n",
       "      <th>income_per_person</th>\n",
       "      <th>gini_index</th>\n",
       "    </tr>\n",
       "  </thead>\n",
       "  <tbody>\n",
       "    <tr>\n",
       "      <th>0</th>\n",
       "      <td>Africa</td>\n",
       "      <td>Congo, Dem. Rep.</td>\n",
       "      <td>2006</td>\n",
       "      <td>605</td>\n",
       "      <td>42.2</td>\n",
       "    </tr>\n",
       "    <tr>\n",
       "      <th>1</th>\n",
       "      <td>Africa</td>\n",
       "      <td>Congo, Dem. Rep.</td>\n",
       "      <td>2007</td>\n",
       "      <td>623</td>\n",
       "      <td>42.1</td>\n",
       "    </tr>\n",
       "    <tr>\n",
       "      <th>2</th>\n",
       "      <td>Africa</td>\n",
       "      <td>Congo, Dem. Rep.</td>\n",
       "      <td>2008</td>\n",
       "      <td>640</td>\n",
       "      <td>42.1</td>\n",
       "    </tr>\n",
       "    <tr>\n",
       "      <th>3</th>\n",
       "      <td>Africa</td>\n",
       "      <td>Congo, Dem. Rep.</td>\n",
       "      <td>2009</td>\n",
       "      <td>637</td>\n",
       "      <td>42.1</td>\n",
       "    </tr>\n",
       "    <tr>\n",
       "      <th>4</th>\n",
       "      <td>Africa</td>\n",
       "      <td>Congo, Dem. Rep.</td>\n",
       "      <td>2010</td>\n",
       "      <td>660</td>\n",
       "      <td>42.1</td>\n",
       "    </tr>\n",
       "    <tr>\n",
       "      <th>5</th>\n",
       "      <td>Africa</td>\n",
       "      <td>Congo, Rep.</td>\n",
       "      <td>2006</td>\n",
       "      <td>5000</td>\n",
       "      <td>47.6</td>\n",
       "    </tr>\n",
       "    <tr>\n",
       "      <th>6</th>\n",
       "      <td>Africa</td>\n",
       "      <td>Congo, Rep.</td>\n",
       "      <td>2007</td>\n",
       "      <td>4760</td>\n",
       "      <td>47.9</td>\n",
       "    </tr>\n",
       "    <tr>\n",
       "      <th>7</th>\n",
       "      <td>Africa</td>\n",
       "      <td>Congo, Rep.</td>\n",
       "      <td>2008</td>\n",
       "      <td>4850</td>\n",
       "      <td>48.1</td>\n",
       "    </tr>\n",
       "    <tr>\n",
       "      <th>8</th>\n",
       "      <td>Africa</td>\n",
       "      <td>Congo, Rep.</td>\n",
       "      <td>2009</td>\n",
       "      <td>5050</td>\n",
       "      <td>48.4</td>\n",
       "    </tr>\n",
       "    <tr>\n",
       "      <th>9</th>\n",
       "      <td>Africa</td>\n",
       "      <td>Congo, Rep.</td>\n",
       "      <td>2010</td>\n",
       "      <td>5320</td>\n",
       "      <td>48.6</td>\n",
       "    </tr>\n",
       "  </tbody>\n",
       "</table>\n",
       "</div>"
      ],
      "text/plain": [
       "  continent           country  year  income_per_person  gini_index\n",
       "0    Africa  Congo, Dem. Rep.  2006                605        42.2\n",
       "1    Africa  Congo, Dem. Rep.  2007                623        42.1\n",
       "2    Africa  Congo, Dem. Rep.  2008                640        42.1\n",
       "3    Africa  Congo, Dem. Rep.  2009                637        42.1\n",
       "4    Africa  Congo, Dem. Rep.  2010                660        42.1\n",
       "5    Africa       Congo, Rep.  2006               5000        47.6\n",
       "6    Africa       Congo, Rep.  2007               4760        47.9\n",
       "7    Africa       Congo, Rep.  2008               4850        48.1\n",
       "8    Africa       Congo, Rep.  2009               5050        48.4\n",
       "9    Africa       Congo, Rep.  2010               5320        48.6"
      ]
     },
     "execution_count": 210,
     "metadata": {},
     "output_type": "execute_result"
    }
   ],
   "source": [
    "#data_last = pd.read_excel(\"data/combined_final_last_10_years.xlsx\", \"combined\", index_col=\"Unnamed: 0\", na_values=[\"NA\"])\n",
    "\n",
    "with open('data/combined_final_last_10_years.csv', 'r') as file:\n",
    "    data_last = pd.read_csv(file, sep=',')\n",
    "\n",
    "print(data_last)\n",
    "\n",
    "data_last = data_last[['continent', 'country', 'year', 'income_per_person', 'gini_index']]\n",
    "df = pd.DataFrame(data_last)\n",
    "\n",
    "# Create a Pandas Excel writer using XlsxWriter as the engine.\n",
    "writer = pd.ExcelWriter('data/combined_final_last_10_years.xlsx', engine='xlsxwriter')\n",
    "\n",
    "# Convert the dataframe to an XlsxWriter Excel object.\n",
    "df.to_excel(writer, sheet_name='combined')\n",
    "\n",
    "# Close the Pandas Excel writer and output the Excel file.\n",
    "writer.save()\n",
    "\n",
    "df.head(10)"
   ]
  },
  {
   "cell_type": "code",
   "execution_count": 213,
   "id": "24b28ed2",
   "metadata": {},
   "outputs": [],
   "source": [
    "writer = pd.ExcelWriter('data/combined_final_last_10_years.xlsx', engine='xlsxwriter')\n",
    "\n",
    "# Convert the dataframe to an XlsxWriter Excel object.\n",
    "df.to_excel(writer, sheet_name='combined')\n",
    "\n",
    "# Get the xlsxwriter workbook and worksheet objects.\n",
    "workbook  = writer.book\n",
    "worksheet = writer.sheets['combined']\n",
    "\n",
    "# Create a chart object.\n",
    "chart = workbook.add_chart({'type': 'column'})\n",
    "\n",
    "# Get the dimensions of the dataframe.\n",
    "(max_row, max_col) = df.shape\n",
    "\n",
    "# Configure the series of the chart from the dataframe data.\n",
    "chart.add_series({'values': ['combined', 1, 1, max_row, 1]})\n",
    "\n",
    "# Insert the chart into the worksheet.\n",
    "worksheet.insert_chart(1, 3, chart)\n",
    "\n",
    "# Close the Pandas Excel writer and output the Excel file.\n",
    "writer.save()"
   ]
  },
  {
   "cell_type": "code",
   "execution_count": 17,
   "id": "6823230a",
   "metadata": {},
   "outputs": [
    {
     "name": "stdout",
     "output_type": "stream",
     "text": [
      "continent            0\n",
      "country              0\n",
      "year                 0\n",
      "income_per_person    0\n",
      "gini_index           0\n",
      "dtype: int64\n"
     ]
    }
   ],
   "source": [
    "no_missing = df.isnull().sum()\n",
    "no_empty = df.isna().sum()\n",
    "\n",
    "print(no_empty)"
   ]
  },
  {
   "cell_type": "code",
   "execution_count": 18,
   "id": "e6faa437",
   "metadata": {
    "scrolled": false
   },
   "outputs": [
    {
     "name": "stdout",
     "output_type": "stream",
     "text": [
      "     continent           country  income_per_person  gini_index\n",
      "0       Africa  Congo, Dem. Rep.                605        42.2\n",
      "5       Africa       Congo, Rep.               5000        47.6\n",
      "12      Africa           Algeria              12400        30.3\n",
      "18      Africa            Angola               5500        46.2\n",
      "29      Africa             Benin               1750        40.2\n",
      "...        ...               ...                ...         ...\n",
      "1170    Europe       Switzerland              54500        34.1\n",
      "1190    Europe           Ukraine               7870        28.3\n",
      "1201    Europe    United Kingdom              37800        34.9\n",
      "1212   Oceania         Australia              39500        34.7\n",
      "1223   Oceania       New Zealand              32400        32.8\n",
      "\n",
      "[108 rows x 4 columns]\n"
     ]
    }
   ],
   "source": [
    "dfin2006 = df.loc[df['year'] == 2006]\n",
    "select2006 = dfin2006[['continent', 'country','income_per_person', 'gini_index' ]]\n",
    "print(select2006)"
   ]
  },
  {
   "cell_type": "markdown",
   "id": "7bcb7421",
   "metadata": {},
   "source": [
    "# Basic Bar chart"
   ]
  },
  {
   "cell_type": "code",
   "execution_count": 221,
   "id": "99c234e3",
   "metadata": {
    "scrolled": true
   },
   "outputs": [
    {
     "name": "stdout",
     "output_type": "stream",
     "text": [
      "  continent  gini_index\n",
      "0    Africa   43.012500\n",
      "1  Americas   49.147059\n",
      "2      Asia   38.128571\n",
      "3    Europe   31.729730\n",
      "4   Oceania   33.750000\n"
     ]
    }
   ],
   "source": [
    "#all_countries average income per continent\n",
    "#then compare with gini\n",
    "\n",
    "#gini_continent and per country\n",
    "\n",
    "gini_con_mean_2006 = select2006.groupby(['continent'], as_index=False).gini_index.mean()\n",
    "gini_con_median_2006 = select2006.groupby(['continent'], as_index=False).gini_index.median()\n",
    "\n",
    "print(gini_con_mean_2006)\n",
    "\n"
   ]
  },
  {
   "cell_type": "code",
   "execution_count": 216,
   "id": "f2593c86",
   "metadata": {
    "scrolled": true
   },
   "outputs": [
    {
     "name": "stdout",
     "output_type": "stream",
     "text": [
      "retenter autre chose\n",
      "'bar_chart'!$A$2:$A$6\n"
     ]
    }
   ],
   "source": [
    "# https://openpyxl.readthedocs.io/en/stable/charts/bar.html#vertical-horizontal-and-stacked-bar-charts\n",
    "wb = load_workbook('data/combined_final_last_10_years.xlsx')\n",
    "ws_name = 'bar_chart'\n",
    "\n",
    "#https://openpyxl.readthedocs.io/en/stable/pandas.html\n",
    "from openpyxl.utils.dataframe import dataframe_to_rows\n",
    "\n",
    "def excel_append(gini_con_median_2006, sheet):\n",
    "    for r in dataframe_to_rows(gini_con_median_2006, index=True, header=True):\n",
    "        sheet.append(r)\n",
    "\n",
    "# une autre méthode à tester wb.remove(ws_name)\n",
    "try:\n",
    "    sheet = wb[ws_name]\n",
    "    sheet.delete_cols(1, 3)\n",
    "    excel_append(gini_con_median_2006, sheet)\n",
    "except KeyError:\n",
    "    sheet = wb.create_sheet(ws_name)\n",
    "    excel_append(gini_con_median_2006, sheet)\n",
    "    print(\"retenter autre chose\")\n",
    "else:\n",
    "    sheet = wb[ws_name]\n",
    "\n",
    "sheet.move_range(\"A3:C7\", rows=-1, cols=0)\n",
    "sheet.move_range(\"B1:C6\", rows=0, cols=-1)\n",
    "\n",
    "\n",
    "# cell references (original spreadsheet) \n",
    "min_column = wb[ws_name].min_column\n",
    "max_column = wb[ws_name].max_column\n",
    "min_row = wb[ws_name].min_row\n",
    "max_row = wb[ws_name].max_row\n",
    "\n",
    "\n",
    "#locate data and categories\n",
    "#including headers\n",
    "data = Reference(sheet,\n",
    "                 min_col=min_column+1,\n",
    "                 max_col=max_column,\n",
    "                 min_row=min_row,\n",
    "                 max_row=max_row)\n",
    "\n",
    "#the first column only not including headers\n",
    "categories = Reference(sheet,\n",
    "                       min_col=1,\n",
    "                       max_col=1,\n",
    "                       min_row=min_row+1,\n",
    "                       max_row=max_row)\n",
    "print(categories)\n",
    "chart1 = BarChart()\n",
    "chart1.type = \"col\"\n",
    "chart1.style = 3\n",
    "chart1.title = \"Test title\"\n",
    "chart1.y_axis.title = 'Continent'\n",
    "chart1.x_axis.title = 'Gini index'\n",
    "\n",
    "# adding data and categories\n",
    "\n",
    "chart1.add_data(data, titles_from_data=True)\n",
    "chart1.set_categories(categories)\n",
    "chart1.shape = 1\n",
    "#location chart\n",
    "sheet.add_chart(chart1, \"D1\")\n",
    "\n",
    "wb.save('data/combined_final_last_10_years.xlsx')"
   ]
  },
  {
   "cell_type": "code",
   "execution_count": 220,
   "id": "5f5e512d",
   "metadata": {
    "scrolled": true
   },
   "outputs": [
    {
     "name": "stdout",
     "output_type": "stream",
     "text": [
      "                  0          1          2         3        4\n",
      "continent    Africa   Americas       Asia    Europe  Oceania\n",
      "gini_index  43.0125  49.147059  38.128571  31.72973    33.75\n"
     ]
    }
   ],
   "source": [
    "#LA version transpose\n",
    "#then compare with gini\n",
    "\n",
    "#gini_continent and per country\n",
    "\n",
    "gini_con_mean_2006 = select2006.groupby(['continent'], as_index=False).gini_index.mean()\n",
    "gini_con_median_2006 = select2006.groupby(['continent'], as_index=False).gini_index.median()\n",
    "\n",
    "print(gini_con_mean_2006.transpose())"
   ]
  },
  {
   "cell_type": "code",
   "execution_count": 225,
   "id": "7fa5f416",
   "metadata": {},
   "outputs": [
    {
     "name": "stdout",
     "output_type": "stream",
     "text": [
      "except\n",
      "'bar_chart'!$B$2:$F$2\n"
     ]
    }
   ],
   "source": [
    "#LA version transpose\n",
    "\n",
    "wb = load_workbook('data/combined_final_last_10_years.xlsx')\n",
    "ws_name = 'bar_chart'\n",
    "\n",
    "def excel_append(gini_con_median_2006, sheet):\n",
    "    for r in dataframe_to_rows(gini_con_median_2006, index=True, header=True):\n",
    "        sheet.append(r)\n",
    "\n",
    "try:\n",
    "    sheet = wb[ws_name]\n",
    "    sheet.delete_cols(1, 3)\n",
    "    excel_append(gini_con_median_2006.transpose(), sheet)\n",
    "except KeyError:\n",
    "    sheet = wb.create_sheet(ws_name)\n",
    "    excel_append(gini_con_median_2006.transpose(), sheet)\n",
    "    print(\"except\")\n",
    "else:\n",
    "    sheet = wb[ws_name]\n",
    "\n",
    "sheet.move_range(\"A3:F4\", rows=-2, cols=0)\n",
    "\n",
    "\n",
    "# cell references (original spreadsheet) \n",
    "min_column = wb[ws_name].min_column\n",
    "max_column = wb[ws_name].max_column\n",
    "min_row = wb[ws_name].min_row\n",
    "max_row = wb[ws_name].max_row\n",
    "\n",
    "\n",
    "#locate data and categories\n",
    "#including headers\n",
    "data = Reference(sheet,\n",
    "                 min_col=min_column+1,\n",
    "                 max_col=max_column,\n",
    "                 min_row=min_row,\n",
    "                 max_row=max_row)\n",
    "\n",
    "#the first column only not including headers\n",
    "categories = Reference(sheet,\n",
    "                       min_col=2,\n",
    "                       max_col=6,\n",
    "                       min_row=min_row+1,\n",
    "                       max_row=max_row)\n",
    "print(categories)\n",
    "chart1 = BarChart()\n",
    "chart1.type = \"col\"\n",
    "chart1.style = 3\n",
    "chart1.title = \"Test title\"\n",
    "chart1.y_axis.title = 'Continent'\n",
    "chart1.x_axis.title = 'Gini index'\n",
    "\n",
    "# adding data and categories\n",
    "\n",
    "chart1.add_data(data, titles_from_data=True)\n",
    "chart1.set_categories(categories)\n",
    "chart1.shape = 1\n",
    "#location chart\n",
    "sheet.add_chart(chart1, \"D1\")\n",
    "\n",
    "wb.save('data/combined_final_last_10_years.xlsx')"
   ]
  },
  {
   "cell_type": "markdown",
   "id": "c593ca35",
   "metadata": {},
   "source": [
    "# Pie chart"
   ]
  },
  {
   "cell_type": "code",
   "execution_count": 162,
   "id": "3e89505b",
   "metadata": {
    "scrolled": true
   },
   "outputs": [
    {
     "name": "stdout",
     "output_type": "stream",
     "text": [
      "  continent  income_per_person\n",
      "0    Africa        6299.208333\n",
      "1  Americas       13898.823529\n",
      "2      Asia       20857.857143\n",
      "3    Europe       31395.405405\n",
      "4   Oceania       35950.000000\n"
     ]
    }
   ],
   "source": [
    "#income_continent and per country\n",
    "income_con_mean_2006 = select2006.groupby(['continent'], as_index=False).income_per_person.mean()\n",
    "income_con_median_2006 = select2006.groupby(['continent'], as_index=False).income_per_person.median()\n",
    "print(income_con_mean_2006)"
   ]
  },
  {
   "cell_type": "code",
   "execution_count": 163,
   "id": "76d03f09",
   "metadata": {},
   "outputs": [
    {
     "name": "stdout",
     "output_type": "stream",
     "text": [
      "0\n"
     ]
    }
   ],
   "source": [
    "i = 0 \n",
    "try:\n",
    "    wb.remove (ws_name)\n",
    "    i = i + 1\n",
    "except:\n",
    "    if i > 0:\n",
    "        print(i)\n",
    "    else:\n",
    "        print(i)\n",
    "        "
   ]
  },
  {
   "cell_type": "code",
   "execution_count": 164,
   "id": "d2eb4968",
   "metadata": {},
   "outputs": [
    {
     "name": "stdout",
     "output_type": "stream",
     "text": [
      "['continent', 'income_per_person']\n"
     ]
    }
   ],
   "source": [
    "from openpyxl.chart import (\n",
    "    PieChart,\n",
    "    ProjectedPieChart,\n",
    "    Reference\n",
    ")\n",
    "from openpyxl.chart.series import DataPoint\n",
    "\n",
    "wb = load_workbook('data/combined_final_last_10_years.xlsx')\n",
    "ws_name = 'pie_chart'\n",
    "\n",
    "\n",
    "print(list(income_con_mean_2006))\n",
    "#try:\n",
    "    #ws_pie = wb[ws_name]\n",
    "#except:\n",
    "    #wb.remove(ws_name)\n",
    "ws_pie = wb.create_sheet(ws_name)\n",
    "\n",
    "#for r in dataframe_to_rows(income_con_mean_2006, index=True, header=True):\n",
    "#    ws_pie.append(r)\n",
    "    \n",
    "for row in income_con_mean_2006.to_numpy().tolist():\n",
    "    ws_pie.append(row)\n",
    "    \n",
    "pie = PieChart()\n",
    "\n",
    "# format dataframe\n",
    "min_column_pie = wb[ws_name].min_column\n",
    "max_column_pie = wb[ws_name].max_column\n",
    "min_row_pie = wb[ws_name].min_row\n",
    "max_row_pie = wb[ws_name].max_row\n",
    "\n",
    "\n",
    "data = Reference(ws_pie,\n",
    "                 min_col=min_column_pie+1,\n",
    "                 max_col=max_column_pie,\n",
    "                 min_row=min_row_pie,\n",
    "                 max_row=max_row_pie)\n",
    "    \n",
    "\n",
    "labels = Reference(ws_pie,\n",
    "                       min_col=min_column_pie,\n",
    "                       max_col=min_column_pie,\n",
    "                       min_row=min_row_pie,\n",
    "                       max_row=max_row_pie)\n",
    "\n",
    "pie.add_data(data, titles_from_data=True)\n",
    "pie.set_categories(labels)\n",
    "pie.title = \"Pies sold by category\"\n",
    "\n",
    "ws_pie.add_chart(pie, \"D1\")\n",
    "\n",
    "print\n",
    "\n",
    "wb.save('data/combined_final_last_10_years.xlsx')"
   ]
  },
  {
   "cell_type": "code",
   "execution_count": 182,
   "id": "1b54759e",
   "metadata": {
    "scrolled": true
   },
   "outputs": [
    {
     "name": "stdout",
     "output_type": "stream",
     "text": [
      "           income_per_person  gini_index\n",
      "continent                               \n",
      "Africa                4630.0       40.95\n",
      "Americas              9860.0       49.00\n",
      "Asia                  6695.0       39.60\n",
      "Europe               28400.0       31.10\n",
      "Oceania              35950.0       33.75\n"
     ]
    }
   ],
   "source": [
    "select2006.groupby(['continent'], dropna=False).mean()\n",
    "continent_gini_income = select2006.groupby(['continent'], dropna=False).median()\n",
    "print(continent_gini_income)"
   ]
  },
  {
   "cell_type": "code",
   "execution_count": 166,
   "id": "22aebcd9",
   "metadata": {},
   "outputs": [],
   "source": [
    "# https://openpyxl.readthedocs.io/en/stable/charts/bar.html#vertical-horizontal-and-stacked-bar-charts\n",
    "from openpyxl import Workbook\n",
    "from openpyxl.chart import BarChart, Series, Reference\n",
    "\n",
    "wb = load_workbook('data/combined_final_last_10_years.xlsx')\n",
    "ws_name_double_bar = 'double_bar_chart'\n",
    "\n",
    "ws_double_bar = wb.create_sheet(ws_name_double_bar)\n",
    "\n",
    "for r in dataframe_to_rows(continent_gini_income, index=True, header=True):\n",
    "        ws_double_bar.append(r)\n",
    "        \n",
    "ws_double_bar.move_range(\"A2:A7\", rows=-1, cols=0)\n",
    "ws_double_bar.move_range(\"B3:C7\", rows=-1, cols=0)\n",
    "\n",
    "\n",
    "\n",
    "min_column_pie = wb[ws_name_double_bar].min_column\n",
    "max_column_pie = wb[ws_name_double_bar].max_column\n",
    "min_row_pie = wb[ws_name_double_bar].min_row\n",
    "max_row_pie = wb[ws_name_double_bar].max_row\n",
    "\n",
    "#locate data and categories\n",
    "#including headers\n",
    "data = Reference(sheet,\n",
    "                 min_col=min_column,\n",
    "                 max_col=max_column,\n",
    "                 min_row=min_row,\n",
    "                 max_row=max_row)\n",
    "\n",
    "#not including headers\n",
    "categories = Reference(sheet,\n",
    "                       min_col=min_column,\n",
    "                       max_col=min_column,\n",
    "                       min_row=min_row,\n",
    "                       max_row=max_row)\n",
    "\n",
    "chart1 = BarChart()\n",
    "chart1.type = \"col\"\n",
    "chart1.style = 10\n",
    "chart1.title = \"Test title\"\n",
    "chart1.y_axis.title = 'Test number'\n",
    "chart1.x_axis.title = 'Sample length (mm)'\n",
    "\n",
    "# adding data and categories\n",
    "\n",
    "chart1.add_data(data, titles_from_data=True)\n",
    "chart1.set_categories(categories)\n",
    "chart1.shape = 1\n",
    "#location chart\n",
    "ws_double_bar.add_chart(chart1, \"E1\")\n",
    "\n",
    "wb.save('data/combined_final_last_10_years.xlsx')\n",
    "wb.close()"
   ]
  },
  {
   "cell_type": "code",
   "execution_count": 218,
   "id": "ae76d2d7",
   "metadata": {
    "scrolled": true
   },
   "outputs": [
    {
     "name": "stdout",
     "output_type": "stream",
     "text": [
      "year       2006  2007  2008  2009  2010  2011  2012  2013  2014  2015  2016\n",
      "continent                                                                  \n",
      "Africa     43.0  43.0  44.0  44.0  44.0  44.0  44.0  44.0  45.0  46.0  47.0\n",
      "Americas   49.0  49.0  48.0  48.0  48.0  47.0  47.0  46.0  45.0  45.0  45.0\n",
      "Asia       38.0  38.0  37.0  37.0  36.0  36.0  36.0  36.0  36.0  36.0  35.0\n",
      "Europe     32.0  32.0  32.0  32.0  32.0  32.0  32.0  32.0  32.0  32.0  31.0\n",
      "Oceania    34.0  34.0  34.0  34.0  33.0  33.0  33.0  33.0  33.0  33.0  34.0\n"
     ]
    }
   ],
   "source": [
    "#pivot\n",
    "\n",
    "excel_file = pd.read_excel('data/combined_final_last_10_years.xlsx')\n",
    "excel_file[['continent', 'gini_index']]\n",
    "\n",
    "report_table = excel_file.pivot_table(index='continent',\n",
    "                                      columns='year',\n",
    "                                      values='gini_index',\n",
    "                                      aggfunc='mean').round(0)\n",
    "print(report_table)"
   ]
  },
  {
   "cell_type": "code",
   "execution_count": 219,
   "id": "32b6b05d",
   "metadata": {},
   "outputs": [],
   "source": [
    "# \n",
    "report_table.to_excel('data/combined_final_last_10_years.xlsx',\n",
    "                      sheet_name='pivot',\n",
    "                      startrow=1)\n",
    "\n",
    "wb = load_workbook('data/combined_final_last_10_years.xlsx')\n",
    "sheet = wb['pivot']# cell references (original spreadsheet) \n",
    "min_column = wb.active.min_column\n",
    "max_column = wb.active.max_column\n",
    "min_row = wb.active.min_row\n",
    "max_row = wb.active.max_row\n",
    "\n",
    "# barchart\n",
    "barchart = BarChart()\n",
    "\n",
    "#locate data and categories\n",
    "\n",
    "#including headers\n",
    "data = Reference(sheet,\n",
    "                 min_col=min_column+1,\n",
    "                 max_col=max_column,\n",
    "                 min_row=min_row,\n",
    "                 max_row=max_row) \n",
    "\n",
    "#not including headers\n",
    "categories = Reference(sheet,\n",
    "                       min_col=min_column,\n",
    "                       max_col=min_column,\n",
    "                       min_row=min_row+1,\n",
    "                       max_row=max_row) \n",
    "\n",
    "\n",
    "# adding data and categories\n",
    "barchart.add_data(data, titles_from_data=True)\n",
    "barchart.set_categories(categories)#location chart\n",
    "sheet.add_chart(barchart, \"B12\")\n",
    "barchart.title = 'Sales by Product line'\n",
    "barchart.style = 5 #choose the chart style\n",
    "wb.save('data/combined_final_last_10_years.xlsx')"
   ]
  },
  {
   "cell_type": "code",
   "execution_count": 159,
   "id": "62879c14",
   "metadata": {},
   "outputs": [
    {
     "name": "stderr",
     "output_type": "stream",
     "text": [
      "No handles with labels found to put in legend.\n"
     ]
    },
    {
     "data": {
      "application/vnd.plotly.v1+json": {
       "config": {
        "plotlyServerURL": "https://plot.ly"
       },
       "data": [
        {
         "alignmentgroup": "True",
         "hovertemplate": "x=%{x}<br>y=%{y}<extra></extra>",
         "legendgroup": "",
         "marker": {
          "color": "#636efa",
          "pattern": {
           "shape": ""
          }
         },
         "name": "",
         "offsetgroup": "",
         "orientation": "v",
         "showlegend": false,
         "textposition": "auto",
         "type": "bar",
         "x": [
          "Africa",
          "Africa",
          "Africa",
          "Africa",
          "Africa",
          "Africa",
          "Africa",
          "Africa",
          "Africa",
          "Africa",
          "Africa",
          "Africa",
          "Africa",
          "Africa",
          "Africa",
          "Africa",
          "Africa",
          "Africa",
          "Africa",
          "Africa",
          "Africa",
          "Africa",
          "Africa",
          "Africa",
          "Americas",
          "Americas",
          "Americas",
          "Americas",
          "Americas",
          "Americas",
          "Americas",
          "Americas",
          "Americas",
          "Americas",
          "Americas",
          "Americas",
          "Americas",
          "Americas",
          "Americas",
          "Americas",
          "Americas",
          "Asia",
          "Asia",
          "Asia",
          "Asia",
          "Asia",
          "Asia",
          "Asia",
          "Asia",
          "Asia",
          "Asia",
          "Asia",
          "Asia",
          "Asia",
          "Asia",
          "Asia",
          "Asia",
          "Asia",
          "Asia",
          "Asia",
          "Asia",
          "Asia",
          "Asia",
          "Asia",
          "Asia",
          "Asia",
          "Asia",
          "Asia",
          "Asia",
          "Europe",
          "Europe",
          "Europe",
          "Europe",
          "Europe",
          "Europe",
          "Europe",
          "Europe",
          "Europe",
          "Europe",
          "Europe",
          "Europe",
          "Europe",
          "Europe",
          "Europe",
          "Europe",
          "Europe",
          "Europe",
          "Europe",
          "Europe",
          "Europe",
          "Europe",
          "Europe",
          "Europe",
          "Europe",
          "Europe",
          "Europe",
          "Europe",
          "Europe",
          "Europe",
          "Europe",
          "Europe",
          "Europe",
          "Europe",
          "Europe",
          "Europe",
          "Europe",
          "Oceania",
          "Oceania"
         ],
         "xaxis": "x",
         "y": [
          42.2,
          47.6,
          30.3,
          46.2,
          40.2,
          62.9,
          41.5,
          42.6,
          31.7,
          40,
          30.5,
          46.3,
          36.4,
          40.9,
          38.2,
          35.5,
          40.7,
          62.5,
          41,
          38.4,
          63.9,
          52,
          43,
          37.8,
          46.7,
          55.1,
          55.5,
          33.8,
          49,
          48.6,
          50,
          46.8,
          54.1,
          57.3,
          45.5,
          44.6,
          52.1,
          50,
          59.8,
          40.8,
          45.8,
          36.8,
          32.7,
          40,
          33,
          39,
          42,
          41.5,
          39.2,
          34.2,
          43.7,
          41.3,
          32,
          40,
          31.8,
          46,
          34.8,
          40.6,
          40,
          34.7,
          40,
          32.2,
          44.6,
          42.4,
          40.2,
          32,
          35.6,
          41.3,
          36,
          29.8,
          28,
          29.1,
          33.5,
          33.2,
          31.7,
          30.9,
          26.7,
          25.5,
          32.9,
          27.9,
          31.1,
          31,
          34.2,
          29.6,
          29.7,
          32.6,
          33.7,
          36.7,
          35.4,
          31.1,
          28.5,
          35.2,
          42.2,
          29.6,
          28.5,
          34.7,
          37.8,
          32.4,
          41.3,
          27.4,
          24.4,
          33.5,
          26.9,
          34.1,
          28.3,
          34.9,
          34.7,
          32.8
         ],
         "yaxis": "y"
        }
       ],
       "layout": {
        "barmode": "relative",
        "legend": {
         "tracegroupgap": 0
        },
        "margin": {
         "t": 60
        },
        "template": {
         "data": {
          "bar": [
           {
            "error_x": {
             "color": "#2a3f5f"
            },
            "error_y": {
             "color": "#2a3f5f"
            },
            "marker": {
             "line": {
              "color": "#E5ECF6",
              "width": 0.5
             },
             "pattern": {
              "fillmode": "overlay",
              "size": 10,
              "solidity": 0.2
             }
            },
            "type": "bar"
           }
          ],
          "barpolar": [
           {
            "marker": {
             "line": {
              "color": "#E5ECF6",
              "width": 0.5
             },
             "pattern": {
              "fillmode": "overlay",
              "size": 10,
              "solidity": 0.2
             }
            },
            "type": "barpolar"
           }
          ],
          "carpet": [
           {
            "aaxis": {
             "endlinecolor": "#2a3f5f",
             "gridcolor": "white",
             "linecolor": "white",
             "minorgridcolor": "white",
             "startlinecolor": "#2a3f5f"
            },
            "baxis": {
             "endlinecolor": "#2a3f5f",
             "gridcolor": "white",
             "linecolor": "white",
             "minorgridcolor": "white",
             "startlinecolor": "#2a3f5f"
            },
            "type": "carpet"
           }
          ],
          "choropleth": [
           {
            "colorbar": {
             "outlinewidth": 0,
             "ticks": ""
            },
            "type": "choropleth"
           }
          ],
          "contour": [
           {
            "colorbar": {
             "outlinewidth": 0,
             "ticks": ""
            },
            "colorscale": [
             [
              0,
              "#0d0887"
             ],
             [
              0.1111111111111111,
              "#46039f"
             ],
             [
              0.2222222222222222,
              "#7201a8"
             ],
             [
              0.3333333333333333,
              "#9c179e"
             ],
             [
              0.4444444444444444,
              "#bd3786"
             ],
             [
              0.5555555555555556,
              "#d8576b"
             ],
             [
              0.6666666666666666,
              "#ed7953"
             ],
             [
              0.7777777777777778,
              "#fb9f3a"
             ],
             [
              0.8888888888888888,
              "#fdca26"
             ],
             [
              1,
              "#f0f921"
             ]
            ],
            "type": "contour"
           }
          ],
          "contourcarpet": [
           {
            "colorbar": {
             "outlinewidth": 0,
             "ticks": ""
            },
            "type": "contourcarpet"
           }
          ],
          "heatmap": [
           {
            "colorbar": {
             "outlinewidth": 0,
             "ticks": ""
            },
            "colorscale": [
             [
              0,
              "#0d0887"
             ],
             [
              0.1111111111111111,
              "#46039f"
             ],
             [
              0.2222222222222222,
              "#7201a8"
             ],
             [
              0.3333333333333333,
              "#9c179e"
             ],
             [
              0.4444444444444444,
              "#bd3786"
             ],
             [
              0.5555555555555556,
              "#d8576b"
             ],
             [
              0.6666666666666666,
              "#ed7953"
             ],
             [
              0.7777777777777778,
              "#fb9f3a"
             ],
             [
              0.8888888888888888,
              "#fdca26"
             ],
             [
              1,
              "#f0f921"
             ]
            ],
            "type": "heatmap"
           }
          ],
          "heatmapgl": [
           {
            "colorbar": {
             "outlinewidth": 0,
             "ticks": ""
            },
            "colorscale": [
             [
              0,
              "#0d0887"
             ],
             [
              0.1111111111111111,
              "#46039f"
             ],
             [
              0.2222222222222222,
              "#7201a8"
             ],
             [
              0.3333333333333333,
              "#9c179e"
             ],
             [
              0.4444444444444444,
              "#bd3786"
             ],
             [
              0.5555555555555556,
              "#d8576b"
             ],
             [
              0.6666666666666666,
              "#ed7953"
             ],
             [
              0.7777777777777778,
              "#fb9f3a"
             ],
             [
              0.8888888888888888,
              "#fdca26"
             ],
             [
              1,
              "#f0f921"
             ]
            ],
            "type": "heatmapgl"
           }
          ],
          "histogram": [
           {
            "marker": {
             "pattern": {
              "fillmode": "overlay",
              "size": 10,
              "solidity": 0.2
             }
            },
            "type": "histogram"
           }
          ],
          "histogram2d": [
           {
            "colorbar": {
             "outlinewidth": 0,
             "ticks": ""
            },
            "colorscale": [
             [
              0,
              "#0d0887"
             ],
             [
              0.1111111111111111,
              "#46039f"
             ],
             [
              0.2222222222222222,
              "#7201a8"
             ],
             [
              0.3333333333333333,
              "#9c179e"
             ],
             [
              0.4444444444444444,
              "#bd3786"
             ],
             [
              0.5555555555555556,
              "#d8576b"
             ],
             [
              0.6666666666666666,
              "#ed7953"
             ],
             [
              0.7777777777777778,
              "#fb9f3a"
             ],
             [
              0.8888888888888888,
              "#fdca26"
             ],
             [
              1,
              "#f0f921"
             ]
            ],
            "type": "histogram2d"
           }
          ],
          "histogram2dcontour": [
           {
            "colorbar": {
             "outlinewidth": 0,
             "ticks": ""
            },
            "colorscale": [
             [
              0,
              "#0d0887"
             ],
             [
              0.1111111111111111,
              "#46039f"
             ],
             [
              0.2222222222222222,
              "#7201a8"
             ],
             [
              0.3333333333333333,
              "#9c179e"
             ],
             [
              0.4444444444444444,
              "#bd3786"
             ],
             [
              0.5555555555555556,
              "#d8576b"
             ],
             [
              0.6666666666666666,
              "#ed7953"
             ],
             [
              0.7777777777777778,
              "#fb9f3a"
             ],
             [
              0.8888888888888888,
              "#fdca26"
             ],
             [
              1,
              "#f0f921"
             ]
            ],
            "type": "histogram2dcontour"
           }
          ],
          "mesh3d": [
           {
            "colorbar": {
             "outlinewidth": 0,
             "ticks": ""
            },
            "type": "mesh3d"
           }
          ],
          "parcoords": [
           {
            "line": {
             "colorbar": {
              "outlinewidth": 0,
              "ticks": ""
             }
            },
            "type": "parcoords"
           }
          ],
          "pie": [
           {
            "automargin": true,
            "type": "pie"
           }
          ],
          "scatter": [
           {
            "fillpattern": {
             "fillmode": "overlay",
             "size": 10,
             "solidity": 0.2
            },
            "type": "scatter"
           }
          ],
          "scatter3d": [
           {
            "line": {
             "colorbar": {
              "outlinewidth": 0,
              "ticks": ""
             }
            },
            "marker": {
             "colorbar": {
              "outlinewidth": 0,
              "ticks": ""
             }
            },
            "type": "scatter3d"
           }
          ],
          "scattercarpet": [
           {
            "marker": {
             "colorbar": {
              "outlinewidth": 0,
              "ticks": ""
             }
            },
            "type": "scattercarpet"
           }
          ],
          "scattergeo": [
           {
            "marker": {
             "colorbar": {
              "outlinewidth": 0,
              "ticks": ""
             }
            },
            "type": "scattergeo"
           }
          ],
          "scattergl": [
           {
            "marker": {
             "colorbar": {
              "outlinewidth": 0,
              "ticks": ""
             }
            },
            "type": "scattergl"
           }
          ],
          "scattermapbox": [
           {
            "marker": {
             "colorbar": {
              "outlinewidth": 0,
              "ticks": ""
             }
            },
            "type": "scattermapbox"
           }
          ],
          "scatterpolar": [
           {
            "marker": {
             "colorbar": {
              "outlinewidth": 0,
              "ticks": ""
             }
            },
            "type": "scatterpolar"
           }
          ],
          "scatterpolargl": [
           {
            "marker": {
             "colorbar": {
              "outlinewidth": 0,
              "ticks": ""
             }
            },
            "type": "scatterpolargl"
           }
          ],
          "scatterternary": [
           {
            "marker": {
             "colorbar": {
              "outlinewidth": 0,
              "ticks": ""
             }
            },
            "type": "scatterternary"
           }
          ],
          "surface": [
           {
            "colorbar": {
             "outlinewidth": 0,
             "ticks": ""
            },
            "colorscale": [
             [
              0,
              "#0d0887"
             ],
             [
              0.1111111111111111,
              "#46039f"
             ],
             [
              0.2222222222222222,
              "#7201a8"
             ],
             [
              0.3333333333333333,
              "#9c179e"
             ],
             [
              0.4444444444444444,
              "#bd3786"
             ],
             [
              0.5555555555555556,
              "#d8576b"
             ],
             [
              0.6666666666666666,
              "#ed7953"
             ],
             [
              0.7777777777777778,
              "#fb9f3a"
             ],
             [
              0.8888888888888888,
              "#fdca26"
             ],
             [
              1,
              "#f0f921"
             ]
            ],
            "type": "surface"
           }
          ],
          "table": [
           {
            "cells": {
             "fill": {
              "color": "#EBF0F8"
             },
             "line": {
              "color": "white"
             }
            },
            "header": {
             "fill": {
              "color": "#C8D4E3"
             },
             "line": {
              "color": "white"
             }
            },
            "type": "table"
           }
          ]
         },
         "layout": {
          "annotationdefaults": {
           "arrowcolor": "#2a3f5f",
           "arrowhead": 0,
           "arrowwidth": 1
          },
          "autotypenumbers": "strict",
          "coloraxis": {
           "colorbar": {
            "outlinewidth": 0,
            "ticks": ""
           }
          },
          "colorscale": {
           "diverging": [
            [
             0,
             "#8e0152"
            ],
            [
             0.1,
             "#c51b7d"
            ],
            [
             0.2,
             "#de77ae"
            ],
            [
             0.3,
             "#f1b6da"
            ],
            [
             0.4,
             "#fde0ef"
            ],
            [
             0.5,
             "#f7f7f7"
            ],
            [
             0.6,
             "#e6f5d0"
            ],
            [
             0.7,
             "#b8e186"
            ],
            [
             0.8,
             "#7fbc41"
            ],
            [
             0.9,
             "#4d9221"
            ],
            [
             1,
             "#276419"
            ]
           ],
           "sequential": [
            [
             0,
             "#0d0887"
            ],
            [
             0.1111111111111111,
             "#46039f"
            ],
            [
             0.2222222222222222,
             "#7201a8"
            ],
            [
             0.3333333333333333,
             "#9c179e"
            ],
            [
             0.4444444444444444,
             "#bd3786"
            ],
            [
             0.5555555555555556,
             "#d8576b"
            ],
            [
             0.6666666666666666,
             "#ed7953"
            ],
            [
             0.7777777777777778,
             "#fb9f3a"
            ],
            [
             0.8888888888888888,
             "#fdca26"
            ],
            [
             1,
             "#f0f921"
            ]
           ],
           "sequentialminus": [
            [
             0,
             "#0d0887"
            ],
            [
             0.1111111111111111,
             "#46039f"
            ],
            [
             0.2222222222222222,
             "#7201a8"
            ],
            [
             0.3333333333333333,
             "#9c179e"
            ],
            [
             0.4444444444444444,
             "#bd3786"
            ],
            [
             0.5555555555555556,
             "#d8576b"
            ],
            [
             0.6666666666666666,
             "#ed7953"
            ],
            [
             0.7777777777777778,
             "#fb9f3a"
            ],
            [
             0.8888888888888888,
             "#fdca26"
            ],
            [
             1,
             "#f0f921"
            ]
           ]
          },
          "colorway": [
           "#636efa",
           "#EF553B",
           "#00cc96",
           "#ab63fa",
           "#FFA15A",
           "#19d3f3",
           "#FF6692",
           "#B6E880",
           "#FF97FF",
           "#FECB52"
          ],
          "font": {
           "color": "#2a3f5f"
          },
          "geo": {
           "bgcolor": "white",
           "lakecolor": "white",
           "landcolor": "#E5ECF6",
           "showlakes": true,
           "showland": true,
           "subunitcolor": "white"
          },
          "hoverlabel": {
           "align": "left"
          },
          "hovermode": "closest",
          "mapbox": {
           "style": "light"
          },
          "paper_bgcolor": "white",
          "plot_bgcolor": "#E5ECF6",
          "polar": {
           "angularaxis": {
            "gridcolor": "white",
            "linecolor": "white",
            "ticks": ""
           },
           "bgcolor": "#E5ECF6",
           "radialaxis": {
            "gridcolor": "white",
            "linecolor": "white",
            "ticks": ""
           }
          },
          "scene": {
           "xaxis": {
            "backgroundcolor": "#E5ECF6",
            "gridcolor": "white",
            "gridwidth": 2,
            "linecolor": "white",
            "showbackground": true,
            "ticks": "",
            "zerolinecolor": "white"
           },
           "yaxis": {
            "backgroundcolor": "#E5ECF6",
            "gridcolor": "white",
            "gridwidth": 2,
            "linecolor": "white",
            "showbackground": true,
            "ticks": "",
            "zerolinecolor": "white"
           },
           "zaxis": {
            "backgroundcolor": "#E5ECF6",
            "gridcolor": "white",
            "gridwidth": 2,
            "linecolor": "white",
            "showbackground": true,
            "ticks": "",
            "zerolinecolor": "white"
           }
          },
          "shapedefaults": {
           "line": {
            "color": "#2a3f5f"
           }
          },
          "ternary": {
           "aaxis": {
            "gridcolor": "white",
            "linecolor": "white",
            "ticks": ""
           },
           "baxis": {
            "gridcolor": "white",
            "linecolor": "white",
            "ticks": ""
           },
           "bgcolor": "#E5ECF6",
           "caxis": {
            "gridcolor": "white",
            "linecolor": "white",
            "ticks": ""
           }
          },
          "title": {
           "x": 0.05
          },
          "xaxis": {
           "automargin": true,
           "gridcolor": "white",
           "linecolor": "white",
           "ticks": "",
           "title": {
            "standoff": 15
           },
           "zerolinecolor": "white",
           "zerolinewidth": 2
          },
          "yaxis": {
           "automargin": true,
           "gridcolor": "white",
           "linecolor": "white",
           "ticks": "",
           "title": {
            "standoff": 15
           },
           "zerolinecolor": "white",
           "zerolinewidth": 2
          }
         }
        },
        "xaxis": {
         "anchor": "y",
         "domain": [
          0,
          1
         ],
         "title": {
          "text": "x"
         }
        },
        "yaxis": {
         "anchor": "x",
         "domain": [
          0,
          1
         ],
         "title": {
          "text": "y"
         }
        }
       }
      },
      "text/html": [
       "<div>                            <div id=\"fac8c4ca-acb4-47b5-b338-1f5862e1ee17\" class=\"plotly-graph-div\" style=\"height:525px; width:100%;\"></div>            <script type=\"text/javascript\">                require([\"plotly\"], function(Plotly) {                    window.PLOTLYENV=window.PLOTLYENV || {};                                    if (document.getElementById(\"fac8c4ca-acb4-47b5-b338-1f5862e1ee17\")) {                    Plotly.newPlot(                        \"fac8c4ca-acb4-47b5-b338-1f5862e1ee17\",                        [{\"alignmentgroup\":\"True\",\"hovertemplate\":\"x=%{x}<br>y=%{y}<extra></extra>\",\"legendgroup\":\"\",\"marker\":{\"color\":\"#636efa\",\"pattern\":{\"shape\":\"\"}},\"name\":\"\",\"offsetgroup\":\"\",\"orientation\":\"v\",\"showlegend\":false,\"textposition\":\"auto\",\"x\":[\"Africa\",\"Africa\",\"Africa\",\"Africa\",\"Africa\",\"Africa\",\"Africa\",\"Africa\",\"Africa\",\"Africa\",\"Africa\",\"Africa\",\"Africa\",\"Africa\",\"Africa\",\"Africa\",\"Africa\",\"Africa\",\"Africa\",\"Africa\",\"Africa\",\"Africa\",\"Africa\",\"Africa\",\"Americas\",\"Americas\",\"Americas\",\"Americas\",\"Americas\",\"Americas\",\"Americas\",\"Americas\",\"Americas\",\"Americas\",\"Americas\",\"Americas\",\"Americas\",\"Americas\",\"Americas\",\"Americas\",\"Americas\",\"Asia\",\"Asia\",\"Asia\",\"Asia\",\"Asia\",\"Asia\",\"Asia\",\"Asia\",\"Asia\",\"Asia\",\"Asia\",\"Asia\",\"Asia\",\"Asia\",\"Asia\",\"Asia\",\"Asia\",\"Asia\",\"Asia\",\"Asia\",\"Asia\",\"Asia\",\"Asia\",\"Asia\",\"Asia\",\"Asia\",\"Asia\",\"Asia\",\"Europe\",\"Europe\",\"Europe\",\"Europe\",\"Europe\",\"Europe\",\"Europe\",\"Europe\",\"Europe\",\"Europe\",\"Europe\",\"Europe\",\"Europe\",\"Europe\",\"Europe\",\"Europe\",\"Europe\",\"Europe\",\"Europe\",\"Europe\",\"Europe\",\"Europe\",\"Europe\",\"Europe\",\"Europe\",\"Europe\",\"Europe\",\"Europe\",\"Europe\",\"Europe\",\"Europe\",\"Europe\",\"Europe\",\"Europe\",\"Europe\",\"Europe\",\"Europe\",\"Oceania\",\"Oceania\"],\"xaxis\":\"x\",\"y\":[42.2,47.6,30.3,46.2,40.2,62.9,41.5,42.6,31.7,40.0,30.5,46.3,36.4,40.9,38.2,35.5,40.7,62.5,41.0,38.4,63.9,52.0,43.0,37.8,46.7,55.1,55.5,33.8,49.0,48.6,50.0,46.8,54.1,57.3,45.5,44.6,52.1,50.0,59.8,40.8,45.8,36.8,32.7,40.0,33.0,39.0,42.0,41.5,39.2,34.2,43.7,41.3,32.0,40.0,31.8,46.0,34.8,40.6,40.0,34.7,40.0,32.2,44.6,42.4,40.2,32.0,35.6,41.3,36.0,29.8,28.0,29.1,33.5,33.2,31.7,30.9,26.7,25.5,32.9,27.9,31.1,31.0,34.2,29.6,29.7,32.6,33.7,36.7,35.4,31.1,28.5,35.2,42.2,29.6,28.5,34.7,37.8,32.4,41.3,27.4,24.4,33.5,26.9,34.1,28.3,34.9,34.7,32.8],\"yaxis\":\"y\",\"type\":\"bar\"}],                        {\"template\":{\"data\":{\"histogram2dcontour\":[{\"type\":\"histogram2dcontour\",\"colorbar\":{\"outlinewidth\":0,\"ticks\":\"\"},\"colorscale\":[[0.0,\"#0d0887\"],[0.1111111111111111,\"#46039f\"],[0.2222222222222222,\"#7201a8\"],[0.3333333333333333,\"#9c179e\"],[0.4444444444444444,\"#bd3786\"],[0.5555555555555556,\"#d8576b\"],[0.6666666666666666,\"#ed7953\"],[0.7777777777777778,\"#fb9f3a\"],[0.8888888888888888,\"#fdca26\"],[1.0,\"#f0f921\"]]}],\"choropleth\":[{\"type\":\"choropleth\",\"colorbar\":{\"outlinewidth\":0,\"ticks\":\"\"}}],\"histogram2d\":[{\"type\":\"histogram2d\",\"colorbar\":{\"outlinewidth\":0,\"ticks\":\"\"},\"colorscale\":[[0.0,\"#0d0887\"],[0.1111111111111111,\"#46039f\"],[0.2222222222222222,\"#7201a8\"],[0.3333333333333333,\"#9c179e\"],[0.4444444444444444,\"#bd3786\"],[0.5555555555555556,\"#d8576b\"],[0.6666666666666666,\"#ed7953\"],[0.7777777777777778,\"#fb9f3a\"],[0.8888888888888888,\"#fdca26\"],[1.0,\"#f0f921\"]]}],\"heatmap\":[{\"type\":\"heatmap\",\"colorbar\":{\"outlinewidth\":0,\"ticks\":\"\"},\"colorscale\":[[0.0,\"#0d0887\"],[0.1111111111111111,\"#46039f\"],[0.2222222222222222,\"#7201a8\"],[0.3333333333333333,\"#9c179e\"],[0.4444444444444444,\"#bd3786\"],[0.5555555555555556,\"#d8576b\"],[0.6666666666666666,\"#ed7953\"],[0.7777777777777778,\"#fb9f3a\"],[0.8888888888888888,\"#fdca26\"],[1.0,\"#f0f921\"]]}],\"heatmapgl\":[{\"type\":\"heatmapgl\",\"colorbar\":{\"outlinewidth\":0,\"ticks\":\"\"},\"colorscale\":[[0.0,\"#0d0887\"],[0.1111111111111111,\"#46039f\"],[0.2222222222222222,\"#7201a8\"],[0.3333333333333333,\"#9c179e\"],[0.4444444444444444,\"#bd3786\"],[0.5555555555555556,\"#d8576b\"],[0.6666666666666666,\"#ed7953\"],[0.7777777777777778,\"#fb9f3a\"],[0.8888888888888888,\"#fdca26\"],[1.0,\"#f0f921\"]]}],\"contourcarpet\":[{\"type\":\"contourcarpet\",\"colorbar\":{\"outlinewidth\":0,\"ticks\":\"\"}}],\"contour\":[{\"type\":\"contour\",\"colorbar\":{\"outlinewidth\":0,\"ticks\":\"\"},\"colorscale\":[[0.0,\"#0d0887\"],[0.1111111111111111,\"#46039f\"],[0.2222222222222222,\"#7201a8\"],[0.3333333333333333,\"#9c179e\"],[0.4444444444444444,\"#bd3786\"],[0.5555555555555556,\"#d8576b\"],[0.6666666666666666,\"#ed7953\"],[0.7777777777777778,\"#fb9f3a\"],[0.8888888888888888,\"#fdca26\"],[1.0,\"#f0f921\"]]}],\"surface\":[{\"type\":\"surface\",\"colorbar\":{\"outlinewidth\":0,\"ticks\":\"\"},\"colorscale\":[[0.0,\"#0d0887\"],[0.1111111111111111,\"#46039f\"],[0.2222222222222222,\"#7201a8\"],[0.3333333333333333,\"#9c179e\"],[0.4444444444444444,\"#bd3786\"],[0.5555555555555556,\"#d8576b\"],[0.6666666666666666,\"#ed7953\"],[0.7777777777777778,\"#fb9f3a\"],[0.8888888888888888,\"#fdca26\"],[1.0,\"#f0f921\"]]}],\"mesh3d\":[{\"type\":\"mesh3d\",\"colorbar\":{\"outlinewidth\":0,\"ticks\":\"\"}}],\"scatter\":[{\"fillpattern\":{\"fillmode\":\"overlay\",\"size\":10,\"solidity\":0.2},\"type\":\"scatter\"}],\"parcoords\":[{\"type\":\"parcoords\",\"line\":{\"colorbar\":{\"outlinewidth\":0,\"ticks\":\"\"}}}],\"scatterpolargl\":[{\"type\":\"scatterpolargl\",\"marker\":{\"colorbar\":{\"outlinewidth\":0,\"ticks\":\"\"}}}],\"bar\":[{\"error_x\":{\"color\":\"#2a3f5f\"},\"error_y\":{\"color\":\"#2a3f5f\"},\"marker\":{\"line\":{\"color\":\"#E5ECF6\",\"width\":0.5},\"pattern\":{\"fillmode\":\"overlay\",\"size\":10,\"solidity\":0.2}},\"type\":\"bar\"}],\"scattergeo\":[{\"type\":\"scattergeo\",\"marker\":{\"colorbar\":{\"outlinewidth\":0,\"ticks\":\"\"}}}],\"scatterpolar\":[{\"type\":\"scatterpolar\",\"marker\":{\"colorbar\":{\"outlinewidth\":0,\"ticks\":\"\"}}}],\"histogram\":[{\"marker\":{\"pattern\":{\"fillmode\":\"overlay\",\"size\":10,\"solidity\":0.2}},\"type\":\"histogram\"}],\"scattergl\":[{\"type\":\"scattergl\",\"marker\":{\"colorbar\":{\"outlinewidth\":0,\"ticks\":\"\"}}}],\"scatter3d\":[{\"type\":\"scatter3d\",\"line\":{\"colorbar\":{\"outlinewidth\":0,\"ticks\":\"\"}},\"marker\":{\"colorbar\":{\"outlinewidth\":0,\"ticks\":\"\"}}}],\"scattermapbox\":[{\"type\":\"scattermapbox\",\"marker\":{\"colorbar\":{\"outlinewidth\":0,\"ticks\":\"\"}}}],\"scatterternary\":[{\"type\":\"scatterternary\",\"marker\":{\"colorbar\":{\"outlinewidth\":0,\"ticks\":\"\"}}}],\"scattercarpet\":[{\"type\":\"scattercarpet\",\"marker\":{\"colorbar\":{\"outlinewidth\":0,\"ticks\":\"\"}}}],\"carpet\":[{\"aaxis\":{\"endlinecolor\":\"#2a3f5f\",\"gridcolor\":\"white\",\"linecolor\":\"white\",\"minorgridcolor\":\"white\",\"startlinecolor\":\"#2a3f5f\"},\"baxis\":{\"endlinecolor\":\"#2a3f5f\",\"gridcolor\":\"white\",\"linecolor\":\"white\",\"minorgridcolor\":\"white\",\"startlinecolor\":\"#2a3f5f\"},\"type\":\"carpet\"}],\"table\":[{\"cells\":{\"fill\":{\"color\":\"#EBF0F8\"},\"line\":{\"color\":\"white\"}},\"header\":{\"fill\":{\"color\":\"#C8D4E3\"},\"line\":{\"color\":\"white\"}},\"type\":\"table\"}],\"barpolar\":[{\"marker\":{\"line\":{\"color\":\"#E5ECF6\",\"width\":0.5},\"pattern\":{\"fillmode\":\"overlay\",\"size\":10,\"solidity\":0.2}},\"type\":\"barpolar\"}],\"pie\":[{\"automargin\":true,\"type\":\"pie\"}]},\"layout\":{\"autotypenumbers\":\"strict\",\"colorway\":[\"#636efa\",\"#EF553B\",\"#00cc96\",\"#ab63fa\",\"#FFA15A\",\"#19d3f3\",\"#FF6692\",\"#B6E880\",\"#FF97FF\",\"#FECB52\"],\"font\":{\"color\":\"#2a3f5f\"},\"hovermode\":\"closest\",\"hoverlabel\":{\"align\":\"left\"},\"paper_bgcolor\":\"white\",\"plot_bgcolor\":\"#E5ECF6\",\"polar\":{\"bgcolor\":\"#E5ECF6\",\"angularaxis\":{\"gridcolor\":\"white\",\"linecolor\":\"white\",\"ticks\":\"\"},\"radialaxis\":{\"gridcolor\":\"white\",\"linecolor\":\"white\",\"ticks\":\"\"}},\"ternary\":{\"bgcolor\":\"#E5ECF6\",\"aaxis\":{\"gridcolor\":\"white\",\"linecolor\":\"white\",\"ticks\":\"\"},\"baxis\":{\"gridcolor\":\"white\",\"linecolor\":\"white\",\"ticks\":\"\"},\"caxis\":{\"gridcolor\":\"white\",\"linecolor\":\"white\",\"ticks\":\"\"}},\"coloraxis\":{\"colorbar\":{\"outlinewidth\":0,\"ticks\":\"\"}},\"colorscale\":{\"sequential\":[[0.0,\"#0d0887\"],[0.1111111111111111,\"#46039f\"],[0.2222222222222222,\"#7201a8\"],[0.3333333333333333,\"#9c179e\"],[0.4444444444444444,\"#bd3786\"],[0.5555555555555556,\"#d8576b\"],[0.6666666666666666,\"#ed7953\"],[0.7777777777777778,\"#fb9f3a\"],[0.8888888888888888,\"#fdca26\"],[1.0,\"#f0f921\"]],\"sequentialminus\":[[0.0,\"#0d0887\"],[0.1111111111111111,\"#46039f\"],[0.2222222222222222,\"#7201a8\"],[0.3333333333333333,\"#9c179e\"],[0.4444444444444444,\"#bd3786\"],[0.5555555555555556,\"#d8576b\"],[0.6666666666666666,\"#ed7953\"],[0.7777777777777778,\"#fb9f3a\"],[0.8888888888888888,\"#fdca26\"],[1.0,\"#f0f921\"]],\"diverging\":[[0,\"#8e0152\"],[0.1,\"#c51b7d\"],[0.2,\"#de77ae\"],[0.3,\"#f1b6da\"],[0.4,\"#fde0ef\"],[0.5,\"#f7f7f7\"],[0.6,\"#e6f5d0\"],[0.7,\"#b8e186\"],[0.8,\"#7fbc41\"],[0.9,\"#4d9221\"],[1,\"#276419\"]]},\"xaxis\":{\"gridcolor\":\"white\",\"linecolor\":\"white\",\"ticks\":\"\",\"title\":{\"standoff\":15},\"zerolinecolor\":\"white\",\"automargin\":true,\"zerolinewidth\":2},\"yaxis\":{\"gridcolor\":\"white\",\"linecolor\":\"white\",\"ticks\":\"\",\"title\":{\"standoff\":15},\"zerolinecolor\":\"white\",\"automargin\":true,\"zerolinewidth\":2},\"scene\":{\"xaxis\":{\"backgroundcolor\":\"#E5ECF6\",\"gridcolor\":\"white\",\"linecolor\":\"white\",\"showbackground\":true,\"ticks\":\"\",\"zerolinecolor\":\"white\",\"gridwidth\":2},\"yaxis\":{\"backgroundcolor\":\"#E5ECF6\",\"gridcolor\":\"white\",\"linecolor\":\"white\",\"showbackground\":true,\"ticks\":\"\",\"zerolinecolor\":\"white\",\"gridwidth\":2},\"zaxis\":{\"backgroundcolor\":\"#E5ECF6\",\"gridcolor\":\"white\",\"linecolor\":\"white\",\"showbackground\":true,\"ticks\":\"\",\"zerolinecolor\":\"white\",\"gridwidth\":2}},\"shapedefaults\":{\"line\":{\"color\":\"#2a3f5f\"}},\"annotationdefaults\":{\"arrowcolor\":\"#2a3f5f\",\"arrowhead\":0,\"arrowwidth\":1},\"geo\":{\"bgcolor\":\"white\",\"landcolor\":\"#E5ECF6\",\"subunitcolor\":\"white\",\"showland\":true,\"showlakes\":true,\"lakecolor\":\"white\"},\"title\":{\"x\":0.05},\"mapbox\":{\"style\":\"light\"}}},\"xaxis\":{\"anchor\":\"y\",\"domain\":[0.0,1.0],\"title\":{\"text\":\"x\"}},\"yaxis\":{\"anchor\":\"x\",\"domain\":[0.0,1.0],\"title\":{\"text\":\"y\"}},\"legend\":{\"tracegroupgap\":0},\"margin\":{\"t\":60},\"barmode\":\"relative\"},                        {\"responsive\": true}                    ).then(function(){\n",
       "                            \n",
       "var gd = document.getElementById('fac8c4ca-acb4-47b5-b338-1f5862e1ee17');\n",
       "var x = new MutationObserver(function (mutations, observer) {{\n",
       "        var display = window.getComputedStyle(gd).display;\n",
       "        if (!display || display === 'none') {{\n",
       "            console.log([gd, 'removed!']);\n",
       "            Plotly.purge(gd);\n",
       "            observer.disconnect();\n",
       "        }}\n",
       "}});\n",
       "\n",
       "// Listen for the removal of the full notebook cells\n",
       "var notebookContainer = gd.closest('#notebook-container');\n",
       "if (notebookContainer) {{\n",
       "    x.observe(notebookContainer, {childList: true});\n",
       "}}\n",
       "\n",
       "// Listen for the clearing of the current output cell\n",
       "var outputEl = gd.closest('.output');\n",
       "if (outputEl) {{\n",
       "    x.observe(outputEl, {childList: true});\n",
       "}}\n",
       "\n",
       "                        })                };                });            </script>        </div>"
      ]
     },
     "metadata": {},
     "output_type": "display_data"
    },
    {
     "data": {
      "image/png": "[encoded data removed]",
      "text/plain": [
       "<Figure size 720x360 with 1 Axes>"
      ]
     },
     "metadata": {},
     "output_type": "display_data"
    }
   ],
   "source": [
    "# https://stackoverflow.com/questions/70394889/creating-a-dashboard-of-graphs-in-python\n",
    "\n",
    "\n",
    "from sklearn.datasets import load_breast_cancer\n",
    "\n",
    "import matplotlib.pyplot as plt\n",
    "import plotly.express as px\n",
    "\n",
    "with plt.style.context((\"seaborn\",\"ggplot\")):\n",
    "    plt.figure(figsize=(10,5))\n",
    "    plt.scatter(select2006[\"gini_index\"],\n",
    "                    select2006[\"income_per_person\"],\n",
    "                    c = \"tab:blue\",\n",
    "                    s = 200,\n",
    "                    alpha = 0.6\n",
    "                    )\n",
    "    plt.xlabel(\"gini index\")\n",
    "    plt.ylabel(\"incorme per person\")\n",
    "    plt.title(\"Countries gini index opposed the income per person\")\n",
    "    plt.legend(title=\"Scatter gini to income\",loc=\"best\")\n",
    "\n",
    "\n",
    "fig = px.bar(x = select2006['continent'], y = select2006['gini_index'])\n",
    "fig.show()\n",
    "# mettre en pdf\n",
    "\n",
    "# exe"
   ]
  },
  {
   "cell_type": "code",
   "execution_count": null,
   "id": "e5d34116",
   "metadata": {},
   "outputs": [],
   "source": []
  },
  {
   "cell_type": "code",
   "execution_count": null,
   "id": "38c55351",
   "metadata": {},
   "outputs": [],
   "source": [
    "# mettre en pdf\n",
    "\n",
    "# https://plotly.com/python/v3/pdf-reports/\n",
    "\n"
   ]
  },
  {
   "cell_type": "code",
   "execution_count": null,
   "id": "b741ad69",
   "metadata": {},
   "outputs": [],
   "source": [
    "#https://xlsxwriter.readthedocs.io/working_with_pandas.html\n",
    "\n",
    "\n",
    "# Create a Pandas Excel writer using XlsxWriter as the engine.\n",
    "writer = pd.ExcelWriter('data/combined_final_last_10_years.xlsx', engine='xlsxwriter')\n",
    "\n",
    "# Convert the dataframe to an XlsxWriter Excel object.\n",
    "df.to_excel(writer, sheet_name='combined')\n",
    "\n",
    "# Close the Pandas Excel writer and output the Excel file.\n",
    "writer.save()"
   ]
  },
  {
   "cell_type": "code",
   "execution_count": null,
   "id": "2d45ccf2",
   "metadata": {},
   "outputs": [],
   "source": [
    "# Si possible https://www.youtube.com/watch?v=hSPmj7mK6ng\n",
    "# https://www.youtube.com/watch?v=WZERgVGUoIk"
   ]
  }
 ],
 "metadata": {
  "kernelspec": {
   "display_name": "Python 3 (ipykernel)",
   "language": "python",
   "name": "python3"
  },
  "language_info": {
   "codemirror_mode": {
    "name": "ipython",
    "version": 3
   },
   "file_extension": ".py",
   "mimetype": "text/x-python",
   "name": "python",
   "nbconvert_exporter": "python",
   "pygments_lexer": "ipython3",
   "version": "3.9.7"
  }
 },
 "nbformat": 4,
 "nbformat_minor": 5
}
